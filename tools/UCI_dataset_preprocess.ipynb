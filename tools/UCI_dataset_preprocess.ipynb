{
 "cells": [
  {
   "cell_type": "code",
   "execution_count": 47,
   "metadata": {},
   "outputs": [],
   "source": [
    "activity_labels = {}"
   ]
  },
  {
   "cell_type": "code",
   "execution_count": 48,
   "metadata": {},
   "outputs": [],
   "source": [
    "with open(\"../../open_data/HAPT Data Set/activity_labels.txt\") as file :\n",
    "    data = file.readlines()"
   ]
  },
  {
   "cell_type": "code",
   "execution_count": 49,
   "metadata": {},
   "outputs": [
    {
     "data": {
      "text/plain": [
       "['1 WALKING           \\n',\n",
       " '2 WALKING_UPSTAIRS  \\n',\n",
       " '3 WALKING_DOWNSTAIRS\\n',\n",
       " '4 SITTING           \\n',\n",
       " '5 STANDING          \\n',\n",
       " '6 LAYING            \\n',\n",
       " '7 STAND_TO_SIT      \\n',\n",
       " '8 SIT_TO_STAND      \\n',\n",
       " '9 SIT_TO_LIE        \\n',\n",
       " '10 LIE_TO_SIT        \\n',\n",
       " '11 STAND_TO_LIE      \\n',\n",
       " '12 LIE_TO_STAND      \\n']"
      ]
     },
     "execution_count": 49,
     "metadata": {},
     "output_type": "execute_result"
    }
   ],
   "source": [
    "data"
   ]
  },
  {
   "cell_type": "code",
   "execution_count": 50,
   "metadata": {},
   "outputs": [],
   "source": [
    "for line in data :\n",
    "    #print(line.split(\" \")[1].rstrip())\n",
    "    #activity_labels[int(line.split(\" \")[0])] = line.split(\" \")[1].rstrip()\n",
    "    activity_labels[line.split(\" \")[1].rstrip()] = int(line.split(\" \")[0])"
   ]
  },
  {
   "cell_type": "code",
   "execution_count": 51,
   "metadata": {},
   "outputs": [
    {
     "data": {
      "text/plain": [
       "{'WALKING': 1,\n",
       " 'WALKING_UPSTAIRS': 2,\n",
       " 'WALKING_DOWNSTAIRS': 3,\n",
       " 'SITTING': 4,\n",
       " 'STANDING': 5,\n",
       " 'LAYING': 6,\n",
       " 'STAND_TO_SIT': 7,\n",
       " 'SIT_TO_STAND': 8,\n",
       " 'SIT_TO_LIE': 9,\n",
       " 'LIE_TO_SIT': 10,\n",
       " 'STAND_TO_LIE': 11,\n",
       " 'LIE_TO_STAND': 12}"
      ]
     },
     "execution_count": 51,
     "metadata": {},
     "output_type": "execute_result"
    }
   ],
   "source": [
    "activity_labels"
   ]
  },
  {
   "cell_type": "code",
   "execution_count": 52,
   "metadata": {},
   "outputs": [],
   "source": [
    "labels = {} # tuple, tuple"
   ]
  },
  {
   "cell_type": "code",
   "execution_count": 53,
   "metadata": {},
   "outputs": [],
   "source": [
    "with open(\"../../open_data/HAPT Data Set/RawData/labels.txt\") as file :\n",
    "    data = file.readlines()"
   ]
  },
  {
   "cell_type": "code",
   "execution_count": 54,
   "metadata": {},
   "outputs": [],
   "source": [
    "for line in data :\n",
    "    line = line.rstrip()\n",
    "    key = tuple(line.split(\" \")[0:3])\n",
    "    value = tuple(line.split(\" \")[3:5])\n",
    "    if key in labels :\n",
    "        labels[key].append(value)\n",
    "    else :\n",
    "        labels[key] = [value]"
   ]
  },
  {
   "cell_type": "code",
   "execution_count": 73,
   "metadata": {},
   "outputs": [
    {
     "ename": "KeyError",
     "evalue": "('20', '10', '1')",
     "output_type": "error",
     "traceback": [
      "\u001b[0;31m---------------------------------------------------------------------------\u001b[0m",
      "\u001b[0;31mKeyError\u001b[0m                                  Traceback (most recent call last)",
      "\u001b[0;32m<ipython-input-73-81ef4d906bb2>\u001b[0m in \u001b[0;36m<module>\u001b[0;34m\u001b[0m\n\u001b[0;32m----> 1\u001b[0;31m \u001b[0mlabels\u001b[0m\u001b[0;34m[\u001b[0m\u001b[0;34m(\u001b[0m\u001b[0;34m'20'\u001b[0m\u001b[0;34m,\u001b[0m \u001b[0;34m'10'\u001b[0m\u001b[0;34m,\u001b[0m \u001b[0;34m'1'\u001b[0m\u001b[0;34m)\u001b[0m\u001b[0;34m]\u001b[0m\u001b[0;34m\u001b[0m\u001b[0;34m\u001b[0m\u001b[0m\n\u001b[0m",
      "\u001b[0;31mKeyError\u001b[0m: ('20', '10', '1')"
     ]
    }
   ],
   "source": [
    "labels[('20', '10', '1')]"
   ]
  },
  {
   "cell_type": "code",
   "execution_count": 56,
   "metadata": {},
   "outputs": [],
   "source": [
    "import glob, csv\n",
    "acc_files = glob.glob(\"../../open_data/HAPT Data Set/RawData/acc_*.txt\")"
   ]
  },
  {
   "cell_type": "code",
   "execution_count": 61,
   "metadata": {},
   "outputs": [
    {
     "data": {
      "text/plain": [
       "'../../open_data/HAPT Data Set/RawData'"
      ]
     },
     "execution_count": 61,
     "metadata": {},
     "output_type": "execute_result"
    }
   ],
   "source": [
    "\"/\".join(acc_files[0].split(\"/\")[0:-1])"
   ]
  },
  {
   "cell_type": "code",
   "execution_count": 28,
   "metadata": {},
   "outputs": [
    {
     "data": {
      "text/plain": [
       "'gyr_exp01_user01.txt'"
      ]
     },
     "execution_count": 28,
     "metadata": {},
     "output_type": "execute_result"
    }
   ],
   "source": [
    "\"gyr\" + \"_\" + \"_\".join(acc_files[0].split(\"/\")[-1].split(\"_\")[1:])"
   ]
  },
  {
   "cell_type": "code",
   "execution_count": 17,
   "metadata": {},
   "outputs": [
    {
     "data": {
      "text/plain": [
       "'txt'"
      ]
     },
     "execution_count": 17,
     "metadata": {},
     "output_type": "execute_result"
    }
   ],
   "source": [
    "str_test.split('.')[-1]"
   ]
  },
  {
   "cell_type": "code",
   "execution_count": 64,
   "metadata": {},
   "outputs": [],
   "source": [
    "import csv"
   ]
  },
  {
   "cell_type": "code",
   "execution_count": 143,
   "metadata": {},
   "outputs": [],
   "source": [
    "def gather_all_activity(activity_label = \"WALKING\", output_path=\"/Volumes/Samsung_T3/TomatoCrew/TomatoEmbedded/data\") :\n",
    "    \n",
    "    # open each accelerometer and gyroscope raw data and combine both into one activity file.\n",
    "    with open(output_path + \"/\" + activity_label + '.csv', 'w') as out_file:\n",
    "        \n",
    "        csv_writer = csv.writer(out_file, delimiter=' ')\n",
    "        csv_writer.writerow(\"Timestamp[us] A_X[mg] A_Y[mg] A_Z[mg] G_X[mdps] G_Y[mdps] G_Z[mdps]\".split(\" \"))\n",
    "        \n",
    "        out_acc_lines = []\n",
    "        out_gyr_lines = []\n",
    "        \n",
    "        for acc_file in acc_files : \n",
    "            \n",
    "            gyro_file = \"/\".join(acc_file.split(\"/\")[0:-1]) + \"/gyro\" + \"_\" + \"_\".join(acc_files[0].split(\"/\")[-1].split(\"_\")[1:])\n",
    "            raw_acc_file = open(acc_file)\n",
    "            raw_gyr_file = open(gyro_file)\n",
    "            \n",
    "            acc_file_name = acc_file.split(\"/\")[-1].split(\".\")[0]\n",
    "            \n",
    "            exp_id = str(int(acc_file_name.split(\"_\")[1].split(\"exp\")[1]))\n",
    "            user_id = str(int(acc_file_name.split(\"_\")[2].split(\"user\")[1]))\n",
    "            \n",
    "            # loop over labels values for a specific activity\n",
    "            if (exp_id, user_id, str(activity_labels[activity_label])) in labels :\n",
    "                lines_to_read = labels[(exp_id, user_id, str(activity_labels[activity_label]))]\n",
    "                #print(lines_to_read)\n",
    "                \n",
    "                for lines in lines_to_read :\n",
    "                    start = int(lines[0])\n",
    "                    end = int(lines[1])\n",
    "                    \n",
    "                    # accelerometer file\n",
    "                    for i, line in enumerate(raw_acc_file) :\n",
    "                        \n",
    "                        if i >= start and i <= end :\n",
    "                            out_acc_lines.append(line)\n",
    "                            \n",
    "                    # gyroscope file\n",
    "                    for i, line in enumerate(raw_gyr_file) :\n",
    "                        \n",
    "                        if i >= start and i <= end :\n",
    "                            out_gyr_lines.append(line)\n",
    "            \n",
    "            raw_acc_file.close()\n",
    "            raw_gyr_file.close()\n",
    "            \n",
    "        for i, data in enumerate(out_acc_lines) :\n",
    "            \n",
    "            #csv_writer.writerow(\",\".join( out_acc_lines[i].split(\" \") + out_gyr_lines[i].split(\" \") ) )\n",
    "            #csv_writer.writerow(\",\".join( out_acc_lines[i].split(\" \") + out_gyr_lines[i].split(\" \") ) )\n",
    "            acc_temp = list(map(float, out_acc_lines[i].split(\" \")))\n",
    "            gyr_temp = list(map(float, out_gyr_lines[i].split(\" \")))\n",
    "            \n",
    "            acc_temp = list(map(lambda x: int(1000 * x), acc_temp))\n",
    "            gyr_temp = list(map(lambda x: int(x / 0.017453 * 1000), gyr_temp))\n",
    "            \n",
    "            csv_writer.writerow([i] + acc_temp + gyr_temp)\n",
    "        print(len(out_acc_lines), len(out_gyr_lines))\n",
    "        "
   ]
  },
  {
   "cell_type": "code",
   "execution_count": 148,
   "metadata": {},
   "outputs": [
    {
     "name": "stdout",
     "output_type": "stream",
     "text": [
      "70207 70207\n"
     ]
    }
   ],
   "source": [
    "gather_all_activity(activity_label = \"STANDING\")"
   ]
  },
  {
   "cell_type": "code",
   "execution_count": null,
   "metadata": {},
   "outputs": [],
   "source": []
  }
 ],
 "metadata": {
  "kernelspec": {
   "display_name": "Python 3",
   "language": "python",
   "name": "python3"
  },
  "language_info": {
   "codemirror_mode": {
    "name": "ipython",
    "version": 3
   },
   "file_extension": ".py",
   "mimetype": "text/x-python",
   "name": "python",
   "nbconvert_exporter": "python",
   "pygments_lexer": "ipython3",
   "version": "3.8.8"
  }
 },
 "nbformat": 4,
 "nbformat_minor": 4
}
